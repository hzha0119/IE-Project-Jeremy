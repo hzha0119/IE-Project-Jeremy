{
 "cells": [
  {
   "cell_type": "code",
   "execution_count": 1,
   "metadata": {},
   "outputs": [],
   "source": [
    "import os\n",
    "from os import listdir\n",
    "\n",
    "import numpy as np\n",
    "import pandas as pd"
   ]
  },
  {
   "cell_type": "code",
   "execution_count": 2,
   "metadata": {},
   "outputs": [],
   "source": [
    "import cufflinks as cf\n",
    "import chart_studio.plotly as csp\n",
    "import chart_studio.tools as cst\n",
    "import plotly.graph_objs as go\n",
    "from plotly import subplots\n",
    "from plotly.subplots import make_subplots\n",
    "import plotly.express as px"
   ]
  },
  {
   "cell_type": "code",
   "execution_count": 3,
   "metadata": {},
   "outputs": [],
   "source": [
    "username = 'hzha0119'\n",
    "key = 'Q3plmWq4Y5YCXcoaq34E'\n",
    "cst.set_credentials_file(username = username, api_key = key)"
   ]
  },
  {
   "cell_type": "code",
   "execution_count": 4,
   "metadata": {},
   "outputs": [],
   "source": [
    "dataset = pd.read_csv('Dataset 1.csv')\n",
    "x = dataset[dataset.columns[0]].tolist()\n",
    "col1 = dataset[dataset.columns[1]].tolist()\n",
    "col2 = dataset[dataset.columns[2]].tolist()\n",
    "col3 = dataset[dataset.columns[3]].tolist()\n",
    "col4 = dataset[dataset.columns[4]].tolist()"
   ]
  },
  {
   "cell_type": "code",
   "execution_count": 5,
   "metadata": {},
   "outputs": [],
   "source": [
    "trace1 = go.Bar(x=x, y=col1, name=dataset.columns[1], text=col1,  textposition='inside', marker = dict(color = '#01326c'))\n",
    "trace2 = go.Bar(x=x, y=col2, name=dataset.columns[2], text=col2,  textposition='inside', marker = dict(color = '#0066cb'))\n",
    "trace3 = go.Bar(x=x, y=col3, name=dataset.columns[3], text=col3,  textposition='inside', marker = dict(color = '#47a1f7'))\n",
    "trace4 = go.Bar(x=x, y=col4, name=dataset.columns[4], text=col4,  textposition='inside', marker = dict(color = '#8cd3ff'))"
   ]
  },
  {
   "cell_type": "code",
   "execution_count": 9,
   "metadata": {},
   "outputs": [
    {
     "data": {
      "text/html": [
       "\n",
       "        <iframe\n",
       "            width=\"100%\"\n",
       "            height=\"525px\"\n",
       "            src=\"https://plotly.com/~hzha0119/68.embed\"\n",
       "            frameborder=\"0\"\n",
       "            allowfullscreen\n",
       "        ></iframe>\n",
       "        "
      ],
      "text/plain": [
       "<IPython.lib.display.IFrame at 0x1e27b8c73a0>"
      ]
     },
     "execution_count": 9,
     "metadata": {},
     "output_type": "execute_result"
    }
   ],
   "source": [
    "fig = go.Figure(data=[trace1, trace2, trace3, trace4])\n",
    "title = 'Age-specific rates (number per 1,000 women screened) of women with high grade cervical abnormality detected, by age, 2007 to 2016'\n",
    "fig.update_layout(barmode='stack', \n",
    "                  #title = dict(text = title, x=0.5, y=0.9, font_size = 13, font_family = 'Arial'),\n",
    "                  xaxis = dict(title = 'Year', range=[2006.5,2016.5], dtick = 1))\n",
    "csp.iplot(fig, filename = 'Figure 1')"
   ]
  },
  {
   "cell_type": "code",
   "execution_count": null,
   "metadata": {},
   "outputs": [],
   "source": []
  },
  {
   "cell_type": "code",
   "execution_count": 13,
   "metadata": {},
   "outputs": [
    {
     "data": {
      "text/plain": [
       "5"
      ]
     },
     "execution_count": 13,
     "metadata": {},
     "output_type": "execute_result"
    }
   ],
   "source": []
  },
  {
   "cell_type": "code",
   "execution_count": null,
   "metadata": {},
   "outputs": [],
   "source": []
  }
 ],
 "metadata": {
  "kernelspec": {
   "display_name": "Python 3",
   "language": "python",
   "name": "python3"
  },
  "language_info": {
   "codemirror_mode": {
    "name": "ipython",
    "version": 3
   },
   "file_extension": ".py",
   "mimetype": "text/x-python",
   "name": "python",
   "nbconvert_exporter": "python",
   "pygments_lexer": "ipython3",
   "version": "3.8.3"
  }
 },
 "nbformat": 4,
 "nbformat_minor": 4
}
