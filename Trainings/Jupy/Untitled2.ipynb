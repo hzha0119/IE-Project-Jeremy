{
 "cells": [
  {
   "cell_type": "code",
   "execution_count": 3,
   "metadata": {},
   "outputs": [],
   "source": [
    "import requests\n",
    "from bs4 import BeautifulSoup\n",
    "import pandas as pd\n",
    "from selenium import webdriver\n",
    "import time\n",
    "import re"
   ]
  },
  {
   "cell_type": "code",
   "execution_count": 15,
   "metadata": {},
   "outputs": [],
   "source": [
    "url = 'https://widget.nhsd.healthdirect.org.au/v1/widget/search?widgetId=07888fb2-90c7-4f66-beaf-f72b49ab932d&types=%5Bservices_types%5D%3Aimmunisation+service'"
   ]
  },
  {
   "cell_type": "code",
   "execution_count": 188,
   "metadata": {},
   "outputs": [],
   "source": [
    "browser = webdriver.Chrome('D://chromedriver.exe')\n",
    "browser.get(url)\n"
   ]
  },
  {
   "cell_type": "code",
   "execution_count": 198,
   "metadata": {},
   "outputs": [],
   "source": [
    "time.sleep(5)"
   ]
  },
  {
   "cell_type": "code",
   "execution_count": 182,
   "metadata": {},
   "outputs": [],
   "source": []
  },
  {
   "cell_type": "code",
   "execution_count": 252,
   "metadata": {},
   "outputs": [],
   "source": [
    "from selenium.webdriver.common.action_chains import ActionChains\n",
    "num = int(browser.find_element_by_class_name(\"ResultsLabel__Container-sc-13glsot-0\").text.split()[-1][:-1]) // 20 + 1"
   ]
  },
  {
   "cell_type": "code",
   "execution_count": 253,
   "metadata": {},
   "outputs": [
    {
     "name": "stdout",
     "output_type": "stream",
     "text": [
      "0, 1, 2, 3, 4, 5, 6, 7, 8, 9, 10, 11, 12, 13, 14, 15, 16, 17, 18, 19, 20, 21, 22, 23, 24, 25, 26, 27, 28, 29, 30, "
     ]
    }
   ],
   "source": [
    "for i in range(num):\n",
    "    try:\n",
    "        target = browser.find_elements_by_tag_name('li')[-1]\n",
    "        actions = ActionChains(browser)\n",
    "        actions.move_to_element(target)\n",
    "        actions.perform()\n",
    "    except:\n",
    "        pass\n",
    "    time.sleep(5)\n",
    "    print(i, end = ', ') ## Track the progress"
   ]
  },
  {
   "cell_type": "code",
   "execution_count": 254,
   "metadata": {},
   "outputs": [],
   "source": [
    "html = BeautifulSoup(browser.page_source)"
   ]
  },
  {
   "cell_type": "code",
   "execution_count": 273,
   "metadata": {},
   "outputs": [],
   "source": [
    "GP = [x.find('div', {'class': 'ResultItem__Name-sc-1g9cevh-8'}).text.strip() for x in html.find_all('ul')[1].find_all('li')]\n",
    "address = [x.find('address').text.strip() for x in html.find_all('ul')[1].find_all('li')]\n",
    "contact = [x.find('a').text.strip() for x in html.find_all('ul')[1].find_all('li')]"
   ]
  },
  {
   "cell_type": "code",
   "execution_count": 275,
   "metadata": {},
   "outputs": [],
   "source": []
  },
  {
   "cell_type": "code",
   "execution_count": null,
   "metadata": {},
   "outputs": [],
   "source": []
  },
  {
   "cell_type": "code",
   "execution_count": 338,
   "metadata": {},
   "outputs": [],
   "source": [
    "df = pd.read_csv('List of GPs.csv')"
   ]
  },
  {
   "cell_type": "code",
   "execution_count": 339,
   "metadata": {},
   "outputs": [
    {
     "data": {
      "text/html": [
       "<div>\n",
       "<style scoped>\n",
       "    .dataframe tbody tr th:only-of-type {\n",
       "        vertical-align: middle;\n",
       "    }\n",
       "\n",
       "    .dataframe tbody tr th {\n",
       "        vertical-align: top;\n",
       "    }\n",
       "\n",
       "    .dataframe thead th {\n",
       "        text-align: right;\n",
       "    }\n",
       "</style>\n",
       "<table border=\"1\" class=\"dataframe\">\n",
       "  <thead>\n",
       "    <tr style=\"text-align: right;\">\n",
       "      <th></th>\n",
       "      <th>General Practitioner (GP)</th>\n",
       "      <th>Address</th>\n",
       "      <th>Phone</th>\n",
       "      <th>Location</th>\n",
       "    </tr>\n",
       "  </thead>\n",
       "  <tbody>\n",
       "    <tr>\n",
       "      <th>0</th>\n",
       "      <td>Brunswick Community Medical Centre</td>\n",
       "      <td>11 Glenlyon Road, Brunswick VIC 3056</td>\n",
       "      <td>03 9231 1260</td>\n",
       "      <td>(-37.762645899999995, 144.9610003180354)</td>\n",
       "    </tr>\n",
       "    <tr>\n",
       "      <th>1</th>\n",
       "      <td>Brunswick Sable Pharmacy</td>\n",
       "      <td>362-366 Sydney Road, Brunswick VIC 3056</td>\n",
       "      <td>03 5998 3771</td>\n",
       "      <td>(-37.762645899999995, 144.9610003180354)</td>\n",
       "    </tr>\n",
       "    <tr>\n",
       "      <th>2</th>\n",
       "      <td>Melbourne Paediatric Specialists</td>\n",
       "      <td>Level 4 Suite 403, 48 Flemington Road, Parkvil...</td>\n",
       "      <td>03 9948 5005</td>\n",
       "      <td>(-37.78299355, 144.9588071534153)</td>\n",
       "    </tr>\n",
       "    <tr>\n",
       "      <th>3</th>\n",
       "      <td>MOONEE VALLEY CITY COUNCIL</td>\n",
       "      <td>Moonee Valley City Council Civic Centre, Floor...</td>\n",
       "      <td>03 9243 8888</td>\n",
       "      <td>(-37.7619628, 144.9364284)</td>\n",
       "    </tr>\n",
       "    <tr>\n",
       "      <th>4</th>\n",
       "      <td>HealthSmart Pharmacy VCCC</td>\n",
       "      <td>Victorian Comprehensive Cancer Centre, 311 Gra...</td>\n",
       "      <td>03 9349 1067</td>\n",
       "      <td>(-37.81579474617849, 144.96270698129808)</td>\n",
       "    </tr>\n",
       "    <tr>\n",
       "      <th>...</th>\n",
       "      <td>...</td>\n",
       "      <td>...</td>\n",
       "      <td>...</td>\n",
       "      <td>...</td>\n",
       "    </tr>\n",
       "    <tr>\n",
       "      <th>611</th>\n",
       "      <td>Walcha Council Family And Children Services</td>\n",
       "      <td>2 Hamilton Street, Walcha NSW 2354</td>\n",
       "      <td>02 6774 2500</td>\n",
       "      <td>(-30.3281731, 149.7844407)</td>\n",
       "    </tr>\n",
       "    <tr>\n",
       "      <th>612</th>\n",
       "      <td>Walcha Child &amp; Family Health Clinic</td>\n",
       "      <td>11 Middle Street, Walcha NSW 2354</td>\n",
       "      <td>02 6777 4200</td>\n",
       "      <td>(-30.3281731, 149.7844407)</td>\n",
       "    </tr>\n",
       "    <tr>\n",
       "      <th>613</th>\n",
       "      <td>Barraba Multi Purpose Service</td>\n",
       "      <td>Edward Street, Barraba NSW 2347</td>\n",
       "      <td>02 6782 2500</td>\n",
       "      <td>(-30.3281731, 149.7844407)</td>\n",
       "    </tr>\n",
       "    <tr>\n",
       "      <th>614</th>\n",
       "      <td>Uralla Shire Council Family And Children Services</td>\n",
       "      <td>32 Salisbury Street, Uralla NSW 2358</td>\n",
       "      <td>02 6778 4606</td>\n",
       "      <td>(-30.3281731, 149.7844407)</td>\n",
       "    </tr>\n",
       "    <tr>\n",
       "      <th>615</th>\n",
       "      <td>Uralla Medical Centre</td>\n",
       "      <td>22 Hill Street, Uralla NSW 2358</td>\n",
       "      <td>02 6778 4500</td>\n",
       "      <td>(-30.3281731, 149.7844407)</td>\n",
       "    </tr>\n",
       "  </tbody>\n",
       "</table>\n",
       "<p>616 rows × 4 columns</p>\n",
       "</div>"
      ],
      "text/plain": [
       "                             General Practitioner (GP)  \\\n",
       "0                   Brunswick Community Medical Centre   \n",
       "1                             Brunswick Sable Pharmacy   \n",
       "2                     Melbourne Paediatric Specialists   \n",
       "3                           MOONEE VALLEY CITY COUNCIL   \n",
       "4                            HealthSmart Pharmacy VCCC   \n",
       "..                                                 ...   \n",
       "611        Walcha Council Family And Children Services   \n",
       "612                Walcha Child & Family Health Clinic   \n",
       "613                      Barraba Multi Purpose Service   \n",
       "614  Uralla Shire Council Family And Children Services   \n",
       "615                              Uralla Medical Centre   \n",
       "\n",
       "                                               Address         Phone  \\\n",
       "0                 11 Glenlyon Road, Brunswick VIC 3056  03 9231 1260   \n",
       "1              362-366 Sydney Road, Brunswick VIC 3056  03 5998 3771   \n",
       "2    Level 4 Suite 403, 48 Flemington Road, Parkvil...  03 9948 5005   \n",
       "3    Moonee Valley City Council Civic Centre, Floor...  03 9243 8888   \n",
       "4    Victorian Comprehensive Cancer Centre, 311 Gra...  03 9349 1067   \n",
       "..                                                 ...           ...   \n",
       "611                 2 Hamilton Street, Walcha NSW 2354  02 6774 2500   \n",
       "612                  11 Middle Street, Walcha NSW 2354  02 6777 4200   \n",
       "613                    Edward Street, Barraba NSW 2347  02 6782 2500   \n",
       "614               32 Salisbury Street, Uralla NSW 2358  02 6778 4606   \n",
       "615                    22 Hill Street, Uralla NSW 2358  02 6778 4500   \n",
       "\n",
       "                                     Location  \n",
       "0    (-37.762645899999995, 144.9610003180354)  \n",
       "1    (-37.762645899999995, 144.9610003180354)  \n",
       "2           (-37.78299355, 144.9588071534153)  \n",
       "3                  (-37.7619628, 144.9364284)  \n",
       "4    (-37.81579474617849, 144.96270698129808)  \n",
       "..                                        ...  \n",
       "611                (-30.3281731, 149.7844407)  \n",
       "612                (-30.3281731, 149.7844407)  \n",
       "613                (-30.3281731, 149.7844407)  \n",
       "614                (-30.3281731, 149.7844407)  \n",
       "615                (-30.3281731, 149.7844407)  \n",
       "\n",
       "[616 rows x 4 columns]"
      ]
     },
     "execution_count": 339,
     "metadata": {},
     "output_type": "execute_result"
    }
   ],
   "source": [
    "df"
   ]
  },
  {
   "cell_type": "code",
   "execution_count": 347,
   "metadata": {},
   "outputs": [],
   "source": [
    "result = df.to_json(orient=\"index\")\n",
    "parsed = json.loads(result)"
   ]
  },
  {
   "cell_type": "code",
   "execution_count": 352,
   "metadata": {},
   "outputs": [],
   "source": [
    "f = open('locations.json', 'w')\n",
    "f.write(str(parsed))\n",
    "f.close()"
   ]
  },
  {
   "cell_type": "code",
   "execution_count": null,
   "metadata": {},
   "outputs": [],
   "source": []
  }
 ],
 "metadata": {
  "kernelspec": {
   "display_name": "Python 3",
   "language": "python",
   "name": "python3"
  },
  "language_info": {
   "codemirror_mode": {
    "name": "ipython",
    "version": 3
   },
   "file_extension": ".py",
   "mimetype": "text/x-python",
   "name": "python",
   "nbconvert_exporter": "python",
   "pygments_lexer": "ipython3",
   "version": "3.8.3"
  }
 },
 "nbformat": 4,
 "nbformat_minor": 4
}
