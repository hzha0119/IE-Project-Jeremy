{
 "cells": [
  {
   "cell_type": "code",
   "execution_count": 1,
   "metadata": {},
   "outputs": [],
   "source": [
    "import os\n",
    "from os import listdir\n",
    "\n",
    "import numpy as np\n",
    "import pandas as pd"
   ]
  },
  {
   "cell_type": "code",
   "execution_count": 2,
   "metadata": {},
   "outputs": [],
   "source": [
    "import cufflinks as cf\n",
    "import chart_studio.plotly as csp\n",
    "import chart_studio.tools as cst\n",
    "import plotly.graph_objs as go\n",
    "from plotly import subplots\n",
    "from plotly.subplots import make_subplots\n",
    "import plotly.express as px"
   ]
  },
  {
   "cell_type": "code",
   "execution_count": 3,
   "metadata": {},
   "outputs": [],
   "source": [
    "username = 'hzha0119'\n",
    "key = 'Q3plmWq4Y5YCXcoaq34E'\n",
    "cst.set_credentials_file(username = username, api_key = key)"
   ]
  },
  {
   "cell_type": "code",
   "execution_count": 4,
   "metadata": {},
   "outputs": [],
   "source": [
    "dataset = pd.read_csv('Dataset 4.csv')\n",
    "x = dataset[dataset.columns[0]].tolist()\n",
    "col1 = dataset[dataset.columns[1]].tolist()\n",
    "col2 = dataset[dataset.columns[2]].tolist()\n",
    "\n",
    "col2_text = '% of deaths'"
   ]
  },
  {
   "cell_type": "code",
   "execution_count": 5,
   "metadata": {},
   "outputs": [],
   "source": [
    "trace1 = go.Scatter(x=x, y=col1, name=dataset.columns[1], mode='markers+lines', line = dict(width=2), marker = dict(symbol = 'hexagram', size = 6))\n",
    "trace2 = go.Scatter(x=x, y=col2, name=col2_text, mode='markers+lines', line = dict(width=2), marker = dict(symbol = 'diamond', size = 6))"
   ]
  },
  {
   "cell_type": "code",
   "execution_count": 6,
   "metadata": {},
   "outputs": [
    {
     "data": {
      "text/html": [
       "\n",
       "        <iframe\n",
       "            width=\"100%\"\n",
       "            height=\"525px\"\n",
       "            src=\"https://plotly.com/~hzha0119/77.embed\"\n",
       "            frameborder=\"0\"\n",
       "            allowfullscreen\n",
       "        ></iframe>\n",
       "        "
      ],
      "text/plain": [
       "<IPython.lib.display.IFrame at 0x1eaf78d5f70>"
      ]
     },
     "execution_count": 6,
     "metadata": {},
     "output_type": "execute_result"
    }
   ],
   "source": [
    "fig = make_subplots(specs=[[{\"secondary_y\": True}]])\n",
    "\n",
    "# Add traces\n",
    "fig.add_trace(trace1, secondary_y=False,)\n",
    "fig.add_trace(trace2, secondary_y=True,)\n",
    "\n",
    "fig.update_xaxes(title_text=dataset.columns[0])\n",
    "fig.update_yaxes(title_text=dataset.columns[1], secondary_y = False)\n",
    "fig.update_yaxes(title_text=col2_text, secondary_y = True)\n",
    "\n",
    "title = 'Number of deaths and mortality rates (deaths per 100,000) for cervical cancer, 1982 to 2015'\n",
    "fig.update_layout(xaxis = dict(title = 'Year', range=[1981.5,2015.5], dtick=4),\n",
    "                 #title = dict(text = title, x=0.42, y=0.9, font_size = 18, font_family = 'Arial')\n",
    "                 )\n",
    "csp.iplot(fig, filename = 'Figure 4')"
   ]
  },
  {
   "cell_type": "code",
   "execution_count": null,
   "metadata": {},
   "outputs": [],
   "source": []
  },
  {
   "cell_type": "code",
   "execution_count": null,
   "metadata": {},
   "outputs": [],
   "source": []
  }
 ],
 "metadata": {
  "kernelspec": {
   "display_name": "Python 3",
   "language": "python",
   "name": "python3"
  },
  "language_info": {
   "codemirror_mode": {
    "name": "ipython",
    "version": 3
   },
   "file_extension": ".py",
   "mimetype": "text/x-python",
   "name": "python",
   "nbconvert_exporter": "python",
   "pygments_lexer": "ipython3",
   "version": "3.8.3"
  }
 },
 "nbformat": 4,
 "nbformat_minor": 4
}
